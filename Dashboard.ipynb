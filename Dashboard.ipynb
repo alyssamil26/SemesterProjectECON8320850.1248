{
 "cells": [
  {
   "cell_type": "code",
   "id": "initial_id",
   "metadata": {
    "collapsed": true,
    "ExecuteTime": {
     "end_time": "2024-12-13T04:19:08.881038Z",
     "start_time": "2024-12-13T04:19:08.875879Z"
    }
   },
   "source": [
    "\n",
    "\n"
   ],
   "outputs": [],
   "execution_count": 7
  },
  {
   "metadata": {
    "ExecuteTime": {
     "end_time": "2024-12-13T04:26:10.871222Z",
     "start_time": "2024-12-13T04:26:09.102526Z"
    }
   },
   "cell_type": "code",
   "source": "pip install streamlit requests pandas matplotlib",
   "id": "600d0c29d595ed93",
   "outputs": [
    {
     "name": "stdout",
     "output_type": "stream",
     "text": [
      "Requirement already satisfied: streamlit in c:\\users\\alyss\\pycharmprojects\\endsemesterproject\\.venv\\lib\\site-packages (1.41.0)Note: you may need to restart the kernel to use updated packages.\n",
      "\n",
      "Requirement already satisfied: requests in c:\\users\\alyss\\pycharmprojects\\endsemesterproject\\.venv\\lib\\site-packages (2.32.3)\n",
      "Requirement already satisfied: pandas in c:\\users\\alyss\\pycharmprojects\\endsemesterproject\\.venv\\lib\\site-packages (2.2.3)\n",
      "Requirement already satisfied: matplotlib in c:\\users\\alyss\\pycharmprojects\\endsemesterproject\\.venv\\lib\\site-packages (3.9.3)\n",
      "Requirement already satisfied: altair<6,>=4.0 in c:\\users\\alyss\\pycharmprojects\\endsemesterproject\\.venv\\lib\\site-packages (from streamlit) (5.5.0)\n",
      "Requirement already satisfied: blinker<2,>=1.0.0 in c:\\users\\alyss\\pycharmprojects\\endsemesterproject\\.venv\\lib\\site-packages (from streamlit) (1.9.0)\n",
      "Requirement already satisfied: cachetools<6,>=4.0 in c:\\users\\alyss\\pycharmprojects\\endsemesterproject\\.venv\\lib\\site-packages (from streamlit) (5.5.0)\n",
      "Requirement already satisfied: click<9,>=7.0 in c:\\users\\alyss\\pycharmprojects\\endsemesterproject\\.venv\\lib\\site-packages (from streamlit) (8.1.7)\n",
      "Requirement already satisfied: numpy<3,>=1.23 in c:\\users\\alyss\\pycharmprojects\\endsemesterproject\\.venv\\lib\\site-packages (from streamlit) (2.2.0)\n",
      "Requirement already satisfied: packaging<25,>=20 in c:\\users\\alyss\\pycharmprojects\\endsemesterproject\\.venv\\lib\\site-packages (from streamlit) (24.2)\n",
      "Requirement already satisfied: pillow<12,>=7.1.0 in c:\\users\\alyss\\pycharmprojects\\endsemesterproject\\.venv\\lib\\site-packages (from streamlit) (11.0.0)\n",
      "Requirement already satisfied: protobuf<6,>=3.20 in c:\\users\\alyss\\pycharmprojects\\endsemesterproject\\.venv\\lib\\site-packages (from streamlit) (5.29.1)\n",
      "Requirement already satisfied: pyarrow>=7.0 in c:\\users\\alyss\\pycharmprojects\\endsemesterproject\\.venv\\lib\\site-packages (from streamlit) (18.1.0)\n",
      "Requirement already satisfied: rich<14,>=10.14.0 in c:\\users\\alyss\\pycharmprojects\\endsemesterproject\\.venv\\lib\\site-packages (from streamlit) (13.9.4)\n",
      "Requirement already satisfied: tenacity<10,>=8.1.0 in c:\\users\\alyss\\pycharmprojects\\endsemesterproject\\.venv\\lib\\site-packages (from streamlit) (9.0.0)\n",
      "Requirement already satisfied: toml<2,>=0.10.1 in c:\\users\\alyss\\pycharmprojects\\endsemesterproject\\.venv\\lib\\site-packages (from streamlit) (0.10.2)\n",
      "Requirement already satisfied: typing-extensions<5,>=4.3.0 in c:\\users\\alyss\\pycharmprojects\\endsemesterproject\\.venv\\lib\\site-packages (from streamlit) (4.12.2)\n",
      "Requirement already satisfied: watchdog<7,>=2.1.5 in c:\\users\\alyss\\pycharmprojects\\endsemesterproject\\.venv\\lib\\site-packages (from streamlit) (6.0.0)\n",
      "Requirement already satisfied: gitpython!=3.1.19,<4,>=3.0.7 in c:\\users\\alyss\\pycharmprojects\\endsemesterproject\\.venv\\lib\\site-packages (from streamlit) (3.1.43)\n",
      "Requirement already satisfied: pydeck<1,>=0.8.0b4 in c:\\users\\alyss\\pycharmprojects\\endsemesterproject\\.venv\\lib\\site-packages (from streamlit) (0.9.1)\n",
      "Requirement already satisfied: tornado<7,>=6.0.3 in c:\\users\\alyss\\pycharmprojects\\endsemesterproject\\.venv\\lib\\site-packages (from streamlit) (6.4.2)\n",
      "Requirement already satisfied: charset-normalizer<4,>=2 in c:\\users\\alyss\\pycharmprojects\\endsemesterproject\\.venv\\lib\\site-packages (from requests) (3.4.0)\n",
      "Requirement already satisfied: idna<4,>=2.5 in c:\\users\\alyss\\pycharmprojects\\endsemesterproject\\.venv\\lib\\site-packages (from requests) (3.10)\n",
      "Requirement already satisfied: urllib3<3,>=1.21.1 in c:\\users\\alyss\\pycharmprojects\\endsemesterproject\\.venv\\lib\\site-packages (from requests) (2.2.3)\n",
      "Requirement already satisfied: certifi>=2017.4.17 in c:\\users\\alyss\\pycharmprojects\\endsemesterproject\\.venv\\lib\\site-packages (from requests) (2024.8.30)\n",
      "Requirement already satisfied: python-dateutil>=2.8.2 in c:\\users\\alyss\\pycharmprojects\\endsemesterproject\\.venv\\lib\\site-packages (from pandas) (2.9.0.post0)\n",
      "Requirement already satisfied: pytz>=2020.1 in c:\\users\\alyss\\pycharmprojects\\endsemesterproject\\.venv\\lib\\site-packages (from pandas) (2024.2)\n",
      "Requirement already satisfied: tzdata>=2022.7 in c:\\users\\alyss\\pycharmprojects\\endsemesterproject\\.venv\\lib\\site-packages (from pandas) (2024.2)\n",
      "Requirement already satisfied: contourpy>=1.0.1 in c:\\users\\alyss\\pycharmprojects\\endsemesterproject\\.venv\\lib\\site-packages (from matplotlib) (1.3.1)\n",
      "Requirement already satisfied: cycler>=0.10 in c:\\users\\alyss\\pycharmprojects\\endsemesterproject\\.venv\\lib\\site-packages (from matplotlib) (0.12.1)\n",
      "Requirement already satisfied: fonttools>=4.22.0 in c:\\users\\alyss\\pycharmprojects\\endsemesterproject\\.venv\\lib\\site-packages (from matplotlib) (4.55.3)\n",
      "Requirement already satisfied: kiwisolver>=1.3.1 in c:\\users\\alyss\\pycharmprojects\\endsemesterproject\\.venv\\lib\\site-packages (from matplotlib) (1.4.7)\n",
      "Requirement already satisfied: pyparsing>=2.3.1 in c:\\users\\alyss\\pycharmprojects\\endsemesterproject\\.venv\\lib\\site-packages (from matplotlib) (3.2.0)\n",
      "Requirement already satisfied: jinja2 in c:\\users\\alyss\\pycharmprojects\\endsemesterproject\\.venv\\lib\\site-packages (from altair<6,>=4.0->streamlit) (3.1.4)\n",
      "Requirement already satisfied: jsonschema>=3.0 in c:\\users\\alyss\\pycharmprojects\\endsemesterproject\\.venv\\lib\\site-packages (from altair<6,>=4.0->streamlit) (4.23.0)\n",
      "Requirement already satisfied: narwhals>=1.14.2 in c:\\users\\alyss\\pycharmprojects\\endsemesterproject\\.venv\\lib\\site-packages (from altair<6,>=4.0->streamlit) (1.17.0)\n",
      "Requirement already satisfied: colorama in c:\\users\\alyss\\pycharmprojects\\endsemesterproject\\.venv\\lib\\site-packages (from click<9,>=7.0->streamlit) (0.4.6)\n",
      "Requirement already satisfied: gitdb<5,>=4.0.1 in c:\\users\\alyss\\pycharmprojects\\endsemesterproject\\.venv\\lib\\site-packages (from gitpython!=3.1.19,<4,>=3.0.7->streamlit) (4.0.11)\n",
      "Requirement already satisfied: six>=1.5 in c:\\users\\alyss\\pycharmprojects\\endsemesterproject\\.venv\\lib\\site-packages (from python-dateutil>=2.8.2->pandas) (1.17.0)\n",
      "Requirement already satisfied: markdown-it-py>=2.2.0 in c:\\users\\alyss\\pycharmprojects\\endsemesterproject\\.venv\\lib\\site-packages (from rich<14,>=10.14.0->streamlit) (3.0.0)\n",
      "Requirement already satisfied: pygments<3.0.0,>=2.13.0 in c:\\users\\alyss\\pycharmprojects\\endsemesterproject\\.venv\\lib\\site-packages (from rich<14,>=10.14.0->streamlit) (2.18.0)\n",
      "Requirement already satisfied: smmap<6,>=3.0.1 in c:\\users\\alyss\\pycharmprojects\\endsemesterproject\\.venv\\lib\\site-packages (from gitdb<5,>=4.0.1->gitpython!=3.1.19,<4,>=3.0.7->streamlit) (5.0.1)\n",
      "Requirement already satisfied: MarkupSafe>=2.0 in c:\\users\\alyss\\pycharmprojects\\endsemesterproject\\.venv\\lib\\site-packages (from jinja2->altair<6,>=4.0->streamlit) (3.0.2)\n",
      "Requirement already satisfied: attrs>=22.2.0 in c:\\users\\alyss\\pycharmprojects\\endsemesterproject\\.venv\\lib\\site-packages (from jsonschema>=3.0->altair<6,>=4.0->streamlit) (24.2.0)\n",
      "Requirement already satisfied: jsonschema-specifications>=2023.03.6 in c:\\users\\alyss\\pycharmprojects\\endsemesterproject\\.venv\\lib\\site-packages (from jsonschema>=3.0->altair<6,>=4.0->streamlit) (2024.10.1)\n",
      "Requirement already satisfied: referencing>=0.28.4 in c:\\users\\alyss\\pycharmprojects\\endsemesterproject\\.venv\\lib\\site-packages (from jsonschema>=3.0->altair<6,>=4.0->streamlit) (0.35.1)\n",
      "Requirement already satisfied: rpds-py>=0.7.1 in c:\\users\\alyss\\pycharmprojects\\endsemesterproject\\.venv\\lib\\site-packages (from jsonschema>=3.0->altair<6,>=4.0->streamlit) (0.22.3)\n",
      "Requirement already satisfied: mdurl~=0.1 in c:\\users\\alyss\\pycharmprojects\\endsemesterproject\\.venv\\lib\\site-packages (from markdown-it-py>=2.2.0->rich<14,>=10.14.0->streamlit) (0.1.2)\n"
     ]
    },
    {
     "name": "stderr",
     "output_type": "stream",
     "text": [
      "\n",
      "[notice] A new release of pip is available: 23.2.1 -> 24.3.1\n",
      "[notice] To update, run: python.exe -m pip install --upgrade pip\n"
     ]
    }
   ],
   "execution_count": 10
  },
  {
   "metadata": {
    "ExecuteTime": {
     "end_time": "2024-12-13T04:26:21.247953Z",
     "start_time": "2024-12-13T04:26:21.243712Z"
    }
   },
   "cell_type": "code",
   "source": [
    "#SetUpBLSAPI\n",
    "\n",
    "import requests\n",
    "import pandas as pd\n",
    "import json\n",
    "\n",
    "API_KEY = \"your_bls_api_key\"\n",
    "BASE_URL = \"https://api.bls.gov/publicAPI/v1/timeseries/data/\"\n",
    "\n",
    "def fetch_bls_data(series_id):\n",
    "    headers = {'Content-Type': 'application/json'}\n",
    "    payload = {\n",
    "        \"seriesid\": [series_id],\n",
    "        \"startyear\": \"2020\",\n",
    "        \"endyear\": \"2024\",\n",
    "        \"registrationkey\": API_KEY\n",
    "    }\n",
    "    response = requests.post(BASE_URL, json=payload, headers=headers)\n",
    "    data = response.json()\n",
    "    return pd.DataFrame(data['Results']['series'][0]['data'])"
   ],
   "id": "afda5be4070f29db",
   "outputs": [],
   "execution_count": 11
  },
  {
   "metadata": {
    "ExecuteTime": {
     "end_time": "2024-12-13T04:26:32.985858Z",
     "start_time": "2024-12-13T04:26:32.974602Z"
    }
   },
   "cell_type": "code",
   "source": [
    "import streamlit as st\n",
    "import requests\n",
    "import pandas as pd\n",
    "import matplotlib.pyplot as plt\n",
    "\n",
    "# Function to fetch data from the BLS API\n",
    "def fetch_bls_data(series_id):\n",
    "    API_KEY = \"your_bls_api_key\"  # Replace with your actual API key\n",
    "    BASE_URL = \"https://api.bls.gov/publicAPI/v2/timeseries/data/\"\n",
    "\n",
    "    headers = {'Content-Type': 'application/json'}\n",
    "    payload = {\n",
    "        \"seriesid\": [series_id],\n",
    "        \"startyear\": \"2020\",  # Specify your desired start year\n",
    "        \"endyear\": \"2024\",    # Specify your desired end year\n",
    "        \"registrationkey\": API_KEY\n",
    "    }\n",
    "\n",
    "    response = requests.post(BASE_URL, json=payload, headers=headers)\n",
    "\n",
    "    if response.status_code == 200:\n",
    "        data = response.json()\n",
    "        # Convert the JSON response into a pandas DataFrame\n",
    "        df = pd.DataFrame(data['Results']['series'][0]['data'])\n",
    "        df['value'] = df['value'].astype(float)  # Ensure numeric values\n",
    "        return df\n",
    "    else:\n",
    "        st.error(f\"Error fetching data: {response.status_code}\")\n",
    "        return pd.DataFrame()  # Return an empty DataFrame on error\n",
    "\n",
    "# Streamlit app\n",
    "st.title(\"US Labor Statistics Dashboard\")\n",
    "\n",
    "# Input for BLS Series ID\n",
    "series_id = st.text_input(\"Enter BLS Series ID\", \"LNS14000000\")  # Example: Unemployment rate\n",
    "\n",
    "if st.button(\"Update Data\"):\n",
    "    data = fetch_bls_data(series_id)\n",
    "    if not data.empty:\n",
    "        # Process data for visualization\n",
    "        data['date'] = pd.to_datetime(data['year'] + data['period'].str[1:], format='%Y%m')\n",
    "        data = data.sort_values('date')\n",
    "\n",
    "        # Display data\n",
    "        st.subheader(\"Statistics Overview\")\n",
    "        st.write(data)\n",
    "\n",
    "        # Plot data\n",
    "        st.subheader(\"Trend Chart\")\n",
    "        plt.figure(figsize=(10, 5))\n",
    "        plt.plot(data['date'], data['value'], marker='o')\n",
    "        plt.title(\"Labor Statistics Trend\")\n",
    "        plt.xlabel(\"Date\")\n",
    "        plt.ylabel(\"Value\")\n",
    "        plt.grid(True)\n",
    "        st.pyplot(plt)"
   ],
   "id": "c750dce3722614b7",
   "outputs": [
    {
     "name": "stderr",
     "output_type": "stream",
     "text": [
      "2024-12-12 23:26:32.977 Thread 'MainThread': missing ScriptRunContext! This warning can be ignored when running in bare mode.\n",
      "2024-12-12 23:26:32.978 Thread 'MainThread': missing ScriptRunContext! This warning can be ignored when running in bare mode.\n",
      "2024-12-12 23:26:32.978 Thread 'MainThread': missing ScriptRunContext! This warning can be ignored when running in bare mode.\n",
      "2024-12-12 23:26:32.979 Thread 'MainThread': missing ScriptRunContext! This warning can be ignored when running in bare mode.\n",
      "2024-12-12 23:26:32.979 Thread 'MainThread': missing ScriptRunContext! This warning can be ignored when running in bare mode.\n",
      "2024-12-12 23:26:32.979 Thread 'MainThread': missing ScriptRunContext! This warning can be ignored when running in bare mode.\n",
      "2024-12-12 23:26:32.980 Thread 'MainThread': missing ScriptRunContext! This warning can be ignored when running in bare mode.\n",
      "2024-12-12 23:26:32.981 Thread 'MainThread': missing ScriptRunContext! This warning can be ignored when running in bare mode.\n",
      "2024-12-12 23:26:32.981 Thread 'MainThread': missing ScriptRunContext! This warning can be ignored when running in bare mode.\n",
      "2024-12-12 23:26:32.982 Thread 'MainThread': missing ScriptRunContext! This warning can be ignored when running in bare mode.\n",
      "2024-12-12 23:26:32.982 Thread 'MainThread': missing ScriptRunContext! This warning can be ignored when running in bare mode.\n",
      "2024-12-12 23:26:32.983 Thread 'MainThread': missing ScriptRunContext! This warning can be ignored when running in bare mode.\n",
      "2024-12-12 23:26:32.983 Thread 'MainThread': missing ScriptRunContext! This warning can be ignored when running in bare mode.\n"
     ]
    }
   ],
   "execution_count": 13
  },
  {
   "metadata": {
    "ExecuteTime": {
     "end_time": "2024-12-13T04:27:43.675724Z",
     "start_time": "2024-12-13T04:27:43.671679Z"
    }
   },
   "cell_type": "code",
   "source": "",
   "id": "afc5c6daa9dd8c80",
   "outputs": [
    {
     "ename": "SyntaxError",
     "evalue": "invalid syntax (507122745.py, line 1)",
     "output_type": "error",
     "traceback": [
      "\u001B[1;36m  Cell \u001B[1;32mIn[14], line 1\u001B[1;36m\u001B[0m\n\u001B[1;33m    streamlit run app.py\u001B[0m\n\u001B[1;37m              ^\u001B[0m\n\u001B[1;31mSyntaxError\u001B[0m\u001B[1;31m:\u001B[0m invalid syntax\n"
     ]
    }
   ],
   "execution_count": 14
  }
 ],
 "metadata": {
  "kernelspec": {
   "display_name": "Python 3",
   "language": "python",
   "name": "python3"
  },
  "language_info": {
   "codemirror_mode": {
    "name": "ipython",
    "version": 2
   },
   "file_extension": ".py",
   "mimetype": "text/x-python",
   "name": "python",
   "nbconvert_exporter": "python",
   "pygments_lexer": "ipython2",
   "version": "2.7.6"
  }
 },
 "nbformat": 4,
 "nbformat_minor": 5
}
